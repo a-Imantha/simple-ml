{
 "cells": [
  {
   "cell_type": "markdown",
   "metadata": {
    "papermill": {
     "duration": 0.016602,
     "end_time": "2021-03-27T21:28:23.999355",
     "exception": false,
     "start_time": "2021-03-27T21:28:23.982753",
     "status": "completed"
    },
    "tags": []
   },
   "source": [
    "# 1. Data and Library Imports "
   ]
  },
  {
   "cell_type": "code",
   "execution_count": 1,
   "metadata": {
    "execution": {
     "iopub.execute_input": "2021-03-27T21:28:24.043696Z",
     "iopub.status.busy": "2021-03-27T21:28:24.042899Z",
     "iopub.status.idle": "2021-03-27T21:28:25.657960Z",
     "shell.execute_reply": "2021-03-27T21:28:25.657241Z"
    },
    "papermill": {
     "duration": 1.642636,
     "end_time": "2021-03-27T21:28:25.658160",
     "exception": false,
     "start_time": "2021-03-27T21:28:24.015524",
     "status": "completed"
    },
    "tags": []
   },
   "outputs": [],
   "source": [
    "import numpy as np\n",
    "import pandas as pd\n",
    "import matplotlib.pyplot as plt\n",
    "import seaborn as sns\n",
    "from sklearn.metrics import confusion_matrix, accuracy_score"
   ]
  },
  {
   "cell_type": "code",
   "execution_count": 2,
   "metadata": {
    "execution": {
     "iopub.execute_input": "2021-03-27T21:28:25.695254Z",
     "iopub.status.busy": "2021-03-27T21:28:25.694543Z",
     "iopub.status.idle": "2021-03-27T21:28:25.712877Z",
     "shell.execute_reply": "2021-03-27T21:28:25.711859Z"
    },
    "papermill": {
     "duration": 0.038599,
     "end_time": "2021-03-27T21:28:25.713032",
     "exception": false,
     "start_time": "2021-03-27T21:28:25.674433",
     "status": "completed"
    },
    "tags": []
   },
   "outputs": [
    {
     "name": "stdout",
     "output_type": "stream",
     "text": [
      "/kaggle/input/uomcse2021/cse_DS_Intro3TRAIN.csv\n",
      "/kaggle/input/uomcse2021/cse_DS_Intro3TEST.csv\n"
     ]
    }
   ],
   "source": [
    "import os\n",
    "for dirname, _, filenames in os.walk('/kaggle/input'):\n",
    "    for filename in filenames:\n",
    "        print(os.path.join(dirname, filename))\n",
    "\n"
   ]
  },
  {
   "cell_type": "code",
   "execution_count": 3,
   "metadata": {
    "execution": {
     "iopub.execute_input": "2021-03-27T21:28:25.754660Z",
     "iopub.status.busy": "2021-03-27T21:28:25.753855Z",
     "iopub.status.idle": "2021-03-27T21:28:25.843153Z",
     "shell.execute_reply": "2021-03-27T21:28:25.842367Z"
    },
    "papermill": {
     "duration": 0.113475,
     "end_time": "2021-03-27T21:28:25.843357",
     "exception": false,
     "start_time": "2021-03-27T21:28:25.729882",
     "status": "completed"
    },
    "tags": []
   },
   "outputs": [],
   "source": [
    "dataset           = pd.read_csv('/kaggle/input/uomcse2021/cse_DS_Intro3TRAIN.csv')\n",
    "dataset           = dataset.set_index('ID')\n",
    "dataset_eval      = pd.read_csv('/kaggle/input/uomcse2021/cse_DS_Intro3TEST.csv')\n",
    "dataset_eval      = dataset_eval.set_index('ID')"
   ]
  },
  {
   "cell_type": "markdown",
   "metadata": {
    "papermill": {
     "duration": 0.02435,
     "end_time": "2021-03-27T21:28:25.892719",
     "exception": false,
     "start_time": "2021-03-27T21:28:25.868369",
     "status": "completed"
    },
    "tags": []
   },
   "source": [
    "# 2. Preparing dataset"
   ]
  },
  {
   "cell_type": "code",
   "execution_count": 4,
   "metadata": {
    "execution": {
     "iopub.execute_input": "2021-03-27T21:28:25.957186Z",
     "iopub.status.busy": "2021-03-27T21:28:25.956292Z",
     "iopub.status.idle": "2021-03-27T21:28:25.960538Z",
     "shell.execute_reply": "2021-03-27T21:28:25.959745Z"
    },
    "papermill": {
     "duration": 0.042776,
     "end_time": "2021-03-27T21:28:25.960721",
     "exception": false,
     "start_time": "2021-03-27T21:28:25.917945",
     "status": "completed"
    },
    "tags": []
   },
   "outputs": [],
   "source": [
    "X = dataset.iloc[:, :-1].values\n",
    "y = dataset.iloc[:, -1].values\n",
    "\n",
    "from sklearn.preprocessing import LabelEncoder\n",
    "le = LabelEncoder()\n",
    "y = le.fit_transform(y)"
   ]
  },
  {
   "cell_type": "markdown",
   "metadata": {
    "papermill": {
     "duration": 0.024381,
     "end_time": "2021-03-27T21:28:26.010180",
     "exception": false,
     "start_time": "2021-03-27T21:28:25.985799",
     "status": "completed"
    },
    "tags": []
   },
   "source": [
    "# 3. Splitting Dataset"
   ]
  },
  {
   "cell_type": "code",
   "execution_count": 5,
   "metadata": {
    "execution": {
     "iopub.execute_input": "2021-03-27T21:28:26.067677Z",
     "iopub.status.busy": "2021-03-27T21:28:26.066827Z",
     "iopub.status.idle": "2021-03-27T21:28:26.070191Z",
     "shell.execute_reply": "2021-03-27T21:28:26.069322Z"
    },
    "papermill": {
     "duration": 0.034654,
     "end_time": "2021-03-27T21:28:26.070366",
     "exception": false,
     "start_time": "2021-03-27T21:28:26.035712",
     "status": "completed"
    },
    "tags": []
   },
   "outputs": [],
   "source": [
    "X_train = X\n",
    "y_train = y"
   ]
  },
  {
   "cell_type": "code",
   "execution_count": 6,
   "metadata": {
    "execution": {
     "iopub.execute_input": "2021-03-27T21:28:26.128925Z",
     "iopub.status.busy": "2021-03-27T21:28:26.128025Z",
     "iopub.status.idle": "2021-03-27T21:28:26.135756Z",
     "shell.execute_reply": "2021-03-27T21:28:26.135013Z"
    },
    "papermill": {
     "duration": 0.038744,
     "end_time": "2021-03-27T21:28:26.136175",
     "exception": false,
     "start_time": "2021-03-27T21:28:26.097431",
     "status": "completed"
    },
    "tags": []
   },
   "outputs": [],
   "source": [
    "#Appling feature scaling as this involves knn\n",
    "from sklearn.preprocessing import StandardScaler\n",
    "sc = StandardScaler()\n",
    "X_train = sc.fit_transform(X_train)"
   ]
  },
  {
   "cell_type": "markdown",
   "metadata": {
    "papermill": {
     "duration": 0.025366,
     "end_time": "2021-03-27T21:28:26.187033",
     "exception": false,
     "start_time": "2021-03-27T21:28:26.161667",
     "status": "completed"
    },
    "tags": []
   },
   "source": [
    "# 4. Training"
   ]
  },
  {
   "cell_type": "markdown",
   "metadata": {
    "papermill": {
     "duration": 0.025521,
     "end_time": "2021-03-27T21:28:26.237881",
     "exception": false,
     "start_time": "2021-03-27T21:28:26.212360",
     "status": "completed"
    },
    "tags": []
   },
   "source": [
    "## 4.1 Random Forest"
   ]
  },
  {
   "cell_type": "markdown",
   "metadata": {
    "papermill": {
     "duration": 0.025081,
     "end_time": "2021-03-27T21:28:26.289854",
     "exception": false,
     "start_time": "2021-03-27T21:28:26.264773",
     "status": "completed"
    },
    "tags": []
   },
   "source": [
    "### 4.1.1 Train Set Cross Validation Score"
   ]
  },
  {
   "cell_type": "code",
   "execution_count": 7,
   "metadata": {
    "execution": {
     "iopub.execute_input": "2021-03-27T21:28:26.347518Z",
     "iopub.status.busy": "2021-03-27T21:28:26.346821Z",
     "iopub.status.idle": "2021-03-27T21:28:38.208248Z",
     "shell.execute_reply": "2021-03-27T21:28:38.207132Z"
    },
    "papermill": {
     "duration": 11.892513,
     "end_time": "2021-03-27T21:28:38.208418",
     "exception": false,
     "start_time": "2021-03-27T21:28:26.315905",
     "status": "completed"
    },
    "tags": []
   },
   "outputs": [],
   "source": [
    "from sklearn.model_selection import cross_val_score\n",
    "from sklearn.ensemble import RandomForestClassifier\n",
    "rf = RandomForestClassifier()\n",
    "accuracies = cross_val_score(estimator = rf, X = X_train, y = y_train, cv = 10)\n"
   ]
  },
  {
   "cell_type": "code",
   "execution_count": 8,
   "metadata": {
    "execution": {
     "iopub.execute_input": "2021-03-27T21:28:38.250684Z",
     "iopub.status.busy": "2021-03-27T21:28:38.249550Z",
     "iopub.status.idle": "2021-03-27T21:28:38.257007Z",
     "shell.execute_reply": "2021-03-27T21:28:38.255713Z"
    },
    "papermill": {
     "duration": 0.0324,
     "end_time": "2021-03-27T21:28:38.257624",
     "exception": false,
     "start_time": "2021-03-27T21:28:38.225224",
     "status": "completed"
    },
    "tags": []
   },
   "outputs": [
    {
     "name": "stdout",
     "output_type": "stream",
     "text": [
      "[0.924 0.932 0.874 0.828 0.892 0.884 0.892 0.902 0.892 0.832]\n",
      "mean: 0.8852 std: 0.032164576788759426\n"
     ]
    }
   ],
   "source": [
    "print(accuracies)\n",
    "print('mean: ' + str(accuracies.mean())+' std: '+ str(accuracies.std()) )"
   ]
  },
  {
   "cell_type": "markdown",
   "metadata": {
    "papermill": {
     "duration": 0.026348,
     "end_time": "2021-03-27T21:28:38.311822",
     "exception": false,
     "start_time": "2021-03-27T21:28:38.285474",
     "status": "completed"
    },
    "tags": []
   },
   "source": [
    "## 4.2 Catboost"
   ]
  },
  {
   "cell_type": "markdown",
   "metadata": {
    "papermill": {
     "duration": 0.026486,
     "end_time": "2021-03-27T21:28:38.365063",
     "exception": false,
     "start_time": "2021-03-27T21:28:38.338577",
     "status": "completed"
    },
    "tags": []
   },
   "source": [
    "### 4.2.1 Install"
   ]
  },
  {
   "cell_type": "code",
   "execution_count": 9,
   "metadata": {
    "execution": {
     "iopub.execute_input": "2021-03-27T21:28:38.442512Z",
     "iopub.status.busy": "2021-03-27T21:28:38.441650Z",
     "iopub.status.idle": "2021-03-27T21:28:48.062414Z",
     "shell.execute_reply": "2021-03-27T21:28:48.061611Z"
    },
    "papermill": {
     "duration": 9.670902,
     "end_time": "2021-03-27T21:28:48.062658",
     "exception": false,
     "start_time": "2021-03-27T21:28:38.391756",
     "status": "completed"
    },
    "tags": []
   },
   "outputs": [
    {
     "name": "stdout",
     "output_type": "stream",
     "text": [
      "Requirement already satisfied: catboost in /opt/conda/lib/python3.7/site-packages (0.24.4)\r\n",
      "Requirement already satisfied: graphviz in /opt/conda/lib/python3.7/site-packages (from catboost) (0.8.4)\r\n",
      "Requirement already satisfied: six in /opt/conda/lib/python3.7/site-packages (from catboost) (1.15.0)\r\n",
      "Requirement already satisfied: scipy in /opt/conda/lib/python3.7/site-packages (from catboost) (1.5.4)\r\n",
      "Requirement already satisfied: pandas>=0.24.0 in /opt/conda/lib/python3.7/site-packages (from catboost) (1.2.0)\r\n",
      "Requirement already satisfied: matplotlib in /opt/conda/lib/python3.7/site-packages (from catboost) (3.3.3)\r\n",
      "Requirement already satisfied: numpy>=1.16.0 in /opt/conda/lib/python3.7/site-packages (from catboost) (1.19.5)\r\n",
      "Requirement already satisfied: plotly in /opt/conda/lib/python3.7/site-packages (from catboost) (4.14.3)\r\n",
      "Requirement already satisfied: python-dateutil>=2.7.3 in /opt/conda/lib/python3.7/site-packages (from pandas>=0.24.0->catboost) (2.8.1)\r\n",
      "Requirement already satisfied: pytz>=2017.3 in /opt/conda/lib/python3.7/site-packages (from pandas>=0.24.0->catboost) (2020.5)\r\n",
      "Requirement already satisfied: pyparsing!=2.0.4,!=2.1.2,!=2.1.6,>=2.0.3 in /opt/conda/lib/python3.7/site-packages (from matplotlib->catboost) (2.4.7)\r\n",
      "Requirement already satisfied: cycler>=0.10 in /opt/conda/lib/python3.7/site-packages (from matplotlib->catboost) (0.10.0)\r\n",
      "Requirement already satisfied: kiwisolver>=1.0.1 in /opt/conda/lib/python3.7/site-packages (from matplotlib->catboost) (1.3.1)\r\n",
      "Requirement already satisfied: pillow>=6.2.0 in /opt/conda/lib/python3.7/site-packages (from matplotlib->catboost) (7.2.0)\r\n",
      "Requirement already satisfied: retrying>=1.3.3 in /opt/conda/lib/python3.7/site-packages (from plotly->catboost) (1.3.3)\r\n"
     ]
    }
   ],
   "source": [
    "!pip install catboost"
   ]
  },
  {
   "cell_type": "markdown",
   "metadata": {
    "papermill": {
     "duration": 0.029943,
     "end_time": "2021-03-27T21:28:48.120879",
     "exception": false,
     "start_time": "2021-03-27T21:28:48.090936",
     "status": "completed"
    },
    "tags": []
   },
   "source": [
    "### 4.2.2 Train Set Cross Validation Score"
   ]
  },
  {
   "cell_type": "code",
   "execution_count": 10,
   "metadata": {
    "execution": {
     "iopub.execute_input": "2021-03-27T21:28:48.186599Z",
     "iopub.status.busy": "2021-03-27T21:28:48.185706Z",
     "iopub.status.idle": "2021-03-27T21:31:26.240424Z",
     "shell.execute_reply": "2021-03-27T21:31:26.239280Z"
    },
    "papermill": {
     "duration": 158.090815,
     "end_time": "2021-03-27T21:31:26.240605",
     "exception": false,
     "start_time": "2021-03-27T21:28:48.149790",
     "status": "completed"
    },
    "tags": []
   },
   "outputs": [],
   "source": [
    "from sklearn.model_selection import cross_val_score\n",
    "from catboost import CatBoostClassifier\n",
    "catB = CatBoostClassifier(verbose=0)\n",
    "accuracies = cross_val_score(estimator = catB, X = X_train, y = y_train, cv = 10)"
   ]
  },
  {
   "cell_type": "code",
   "execution_count": 11,
   "metadata": {
    "execution": {
     "iopub.execute_input": "2021-03-27T21:31:26.291443Z",
     "iopub.status.busy": "2021-03-27T21:31:26.290072Z",
     "iopub.status.idle": "2021-03-27T21:31:26.297602Z",
     "shell.execute_reply": "2021-03-27T21:31:26.296664Z"
    },
    "papermill": {
     "duration": 0.035902,
     "end_time": "2021-03-27T21:31:26.297897",
     "exception": false,
     "start_time": "2021-03-27T21:31:26.261995",
     "status": "completed"
    },
    "tags": []
   },
   "outputs": [
    {
     "name": "stdout",
     "output_type": "stream",
     "text": [
      "mean: 0.8896000000000001 std: 0.03197248817342813\n",
      "[0.93  0.924 0.888 0.836 0.912 0.876 0.892 0.912 0.894 0.832]\n"
     ]
    }
   ],
   "source": [
    "print('mean: ' + str(accuracies.mean())+' std: '+ str(accuracies.std()) )\n",
    "print(accuracies)"
   ]
  },
  {
   "cell_type": "markdown",
   "metadata": {
    "papermill": {
     "duration": 0.029945,
     "end_time": "2021-03-27T21:31:26.360724",
     "exception": false,
     "start_time": "2021-03-27T21:31:26.330779",
     "status": "completed"
    },
    "tags": []
   },
   "source": [
    "## 4.3 KNN "
   ]
  },
  {
   "cell_type": "markdown",
   "metadata": {
    "papermill": {
     "duration": 0.029028,
     "end_time": "2021-03-27T21:31:26.418985",
     "exception": false,
     "start_time": "2021-03-27T21:31:26.389957",
     "status": "completed"
    },
    "tags": []
   },
   "source": [
    "### 4.3.1 Crossvalidation"
   ]
  },
  {
   "cell_type": "code",
   "execution_count": 12,
   "metadata": {
    "execution": {
     "iopub.execute_input": "2021-03-27T21:31:26.486007Z",
     "iopub.status.busy": "2021-03-27T21:31:26.484867Z",
     "iopub.status.idle": "2021-03-27T21:31:27.527268Z",
     "shell.execute_reply": "2021-03-27T21:31:27.526599Z"
    },
    "papermill": {
     "duration": 1.079291,
     "end_time": "2021-03-27T21:31:27.527408",
     "exception": false,
     "start_time": "2021-03-27T21:31:26.448117",
     "status": "completed"
    },
    "tags": []
   },
   "outputs": [],
   "source": [
    "from sklearn.model_selection import cross_val_score\n",
    "from sklearn.neighbors import KNeighborsClassifier\n",
    "knn = KNeighborsClassifier(algorithm='auto', leaf_size=30, metric='minkowski',\n",
    "                     metric_params=None, n_jobs=None, n_neighbors=6, p=2,\n",
    "                     weights='distance')\n",
    "accuracies = cross_val_score(estimator = knn, X = X_train, y = y_train, cv = 10)\n"
   ]
  },
  {
   "cell_type": "code",
   "execution_count": 13,
   "metadata": {
    "execution": {
     "iopub.execute_input": "2021-03-27T21:31:27.572001Z",
     "iopub.status.busy": "2021-03-27T21:31:27.571193Z",
     "iopub.status.idle": "2021-03-27T21:31:27.577232Z",
     "shell.execute_reply": "2021-03-27T21:31:27.576267Z"
    },
    "papermill": {
     "duration": 0.030791,
     "end_time": "2021-03-27T21:31:27.577443",
     "exception": false,
     "start_time": "2021-03-27T21:31:27.546652",
     "status": "completed"
    },
    "tags": []
   },
   "outputs": [
    {
     "name": "stdout",
     "output_type": "stream",
     "text": [
      "[0.912 0.91  0.86  0.828 0.894 0.876 0.86  0.892 0.896 0.854]\n",
      "mean: 0.8782 std: 0.02585265943766717\n"
     ]
    }
   ],
   "source": [
    "print(accuracies)\n",
    "print('mean: ' + str(accuracies.mean())+' std: '+ str(accuracies.std()) )"
   ]
  },
  {
   "cell_type": "markdown",
   "metadata": {
    "papermill": {
     "duration": 0.029888,
     "end_time": "2021-03-27T21:31:27.637547",
     "exception": false,
     "start_time": "2021-03-27T21:31:27.607659",
     "status": "completed"
    },
    "tags": []
   },
   "source": [
    "## 4.4 VotingClassifier"
   ]
  },
  {
   "cell_type": "markdown",
   "metadata": {
    "papermill": {
     "duration": 0.030003,
     "end_time": "2021-03-27T21:31:27.697621",
     "exception": false,
     "start_time": "2021-03-27T21:31:27.667618",
     "status": "completed"
    },
    "tags": []
   },
   "source": [
    "### 4.4.1 CrossValidation"
   ]
  },
  {
   "cell_type": "code",
   "execution_count": 14,
   "metadata": {
    "execution": {
     "iopub.execute_input": "2021-03-27T21:31:27.767532Z",
     "iopub.status.busy": "2021-03-27T21:31:27.766880Z",
     "iopub.status.idle": "2021-03-27T21:34:22.461212Z",
     "shell.execute_reply": "2021-03-27T21:34:22.461872Z"
    },
    "papermill": {
     "duration": 174.73313,
     "end_time": "2021-03-27T21:34:22.462144",
     "exception": false,
     "start_time": "2021-03-27T21:31:27.729014",
     "status": "completed"
    },
    "tags": []
   },
   "outputs": [],
   "source": [
    "from sklearn.ensemble import RandomForestClassifier, VotingClassifier\n",
    "from sklearn.model_selection import cross_val_score\n",
    "from catboost import CatBoostClassifier\n",
    "from sklearn.neighbors import KNeighborsClassifier\n",
    "\n",
    "eclf1 = VotingClassifier(estimators=[('KNN', knn),  ('RandomForest',rf), ('CatBoost', catB)], voting='soft')\n",
    "accuracies = cross_val_score(estimator = eclf1, X = X_train, y = y_train, cv = 10)\n"
   ]
  },
  {
   "cell_type": "code",
   "execution_count": 15,
   "metadata": {
    "execution": {
     "iopub.execute_input": "2021-03-27T21:34:22.512574Z",
     "iopub.status.busy": "2021-03-27T21:34:22.511592Z",
     "iopub.status.idle": "2021-03-27T21:34:22.520860Z",
     "shell.execute_reply": "2021-03-27T21:34:22.520173Z"
    },
    "papermill": {
     "duration": 0.036822,
     "end_time": "2021-03-27T21:34:22.521009",
     "exception": false,
     "start_time": "2021-03-27T21:34:22.484187",
     "status": "completed"
    },
    "tags": []
   },
   "outputs": [
    {
     "name": "stdout",
     "output_type": "stream",
     "text": [
      "[0.93  0.93  0.878 0.828 0.91  0.878 0.874 0.922 0.898 0.854]\n",
      "mean: 0.8901999999999999 std: 0.03220496856076717\n"
     ]
    }
   ],
   "source": [
    "print(accuracies)\n",
    "print('mean: ' + str(accuracies.mean())+' std: '+ str(accuracies.std()) )"
   ]
  }
 ],
 "metadata": {
  "kernelspec": {
   "display_name": "Python 3",
   "language": "python",
   "name": "python3"
  },
  "language_info": {
   "codemirror_mode": {
    "name": "ipython",
    "version": 3
   },
   "file_extension": ".py",
   "mimetype": "text/x-python",
   "name": "python",
   "nbconvert_exporter": "python",
   "pygments_lexer": "ipython3",
   "version": "3.7.9"
  },
  "papermill": {
   "default_parameters": {},
   "duration": 366.833234,
   "end_time": "2021-03-27T21:34:23.357681",
   "environment_variables": {},
   "exception": null,
   "input_path": "__notebook__.ipynb",
   "output_path": "__notebook__.ipynb",
   "parameters": {},
   "start_time": "2021-03-27T21:28:16.524447",
   "version": "2.2.2"
  }
 },
 "nbformat": 4,
 "nbformat_minor": 4
}
